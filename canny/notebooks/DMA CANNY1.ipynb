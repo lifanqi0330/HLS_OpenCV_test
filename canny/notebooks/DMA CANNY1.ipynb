{
 "cells": [
  {
   "cell_type": "code",
   "execution_count": 7,
   "metadata": {},
   "outputs": [],
   "source": [
    "import numpy as np\n",
    "import cv2\n",
    "import time\n",
    "from pynq import Overlay\n",
    "import pynq.lib.dma\n",
    "from PIL import Image\n",
    "from pynq import Xlnk\n",
    "import random\n",
    "import matplotlib.pyplot as plt\n",
    "import time\n",
    "\n",
    "OVERLAY = 'sobel.bit'"
   ]
  },
  {
   "cell_type": "code",
   "execution_count": 8,
   "metadata": {},
   "outputs": [],
   "source": [
    "frame_in = Image.open('lena.jpg')\n",
    "img_in = np.array(frame_in)"
   ]
  },
  {
   "cell_type": "code",
   "execution_count": 9,
   "metadata": {
    "scrolled": true,
    "slideshow": {
     "slide_type": "subslide"
    }
   },
   "outputs": [],
   "source": [
    "ol = Overlay(OVERLAY)\n",
    "ol?\n",
    "dma = ol.axi_dma_0\n",
    "canny_edge=ol.canny_edge_0\n",
    "#xlnk = Xlnk()\n",
    "#in_buffer = xlnk.cma_array(shape=(512,512), dtype=np.uint8)\n",
    "#out_buffer = xlnk.cma_array(shape=(512,512), dtype=np.uint8)\n",
    "#CREATE CONTIGOUS MEMORY ALLOCATED BUFFERS THROUGH XLNK"
   ]
  },
  {
   "cell_type": "code",
   "execution_count": 10,
   "metadata": {},
   "outputs": [],
   "source": [
    "xlnk = Xlnk()\n",
    "image_buffer  = xlnk.cma_array(shape=(512,512), dtype=np.uint8)\n",
    "out_buffer = xlnk.cma_array(shape=(512,512), dtype=np.uint8)\n",
    "\n",
    "np.copyto(image_buffer,img_in)"
   ]
  },
  {
   "cell_type": "code",
   "execution_count": 15,
   "metadata": {},
   "outputs": [
    {
     "name": "stdout",
     "output_type": "stream",
     "text": [
      "0.005130767822265625\n"
     ]
    }
   ],
   "source": [
    "t = time.time()\n",
    "canny_edge.write(0x14, 512)\n",
    "canny_edge.write(0x1c, 512)\n",
    "canny_edge.write(0x24, 20)\n",
    "canny_edge.write(0x2c, 200)\n",
    "\n",
    "def run_kernel():\n",
    "    dma.sendchannel.transfer(image_buffer)\n",
    "    dma.recvchannel.transfer(out_buffer)    \n",
    "    canny_edge.write(0x00,0x81) # start\n",
    "    dma.sendchannel.wait()\n",
    "    dma.recvchannel.wait()\n",
    "\n",
    "run_kernel()\n",
    "\n",
    "print(time.time() - t)\n",
    "#result = Image.fromarray(out_buffer)\n",
    "#display(result)\n",
    "#print(\"Resized in Hardware(PL): {}x{} pixels.\".format(new_width, new_height))"
   ]
  },
  {
   "cell_type": "code",
   "execution_count": 16,
   "metadata": {},
   "outputs": [
    {
     "data": {
      "text/plain": [
       "ContiguousArray([[0, 0, 0, ..., 0, 0, 0],\n",
       "                 [0, 0, 0, ..., 0, 0, 0],\n",
       "                 [0, 0, 0, ..., 0, 0, 0],\n",
       "                 ..., \n",
       "                 [0, 0, 0, ..., 0, 0, 0],\n",
       "                 [0, 0, 0, ..., 0, 0, 0],\n",
       "                 [0, 0, 0, ..., 0, 0, 0]], dtype=uint8)"
      ]
     },
     "metadata": {},
     "output_type": "display_data"
    },
    {
     "data": {
      "image/png": "[encoded data removed]",
      "text/plain": [
       "<PIL.Image.Image image mode=L size=512x512 at 0xA3606030>"
      ]
     },
     "execution_count": 16,
     "metadata": {},
     "output_type": "execute_result"
    }
   ],
   "source": [
    "display(out_buffer)\n",
    "img_cv2pynq_1 = Image.fromarray(out_buffer.astype('uint8'))\n",
    "img_cv2pynq_1\n",
    "#cv2.imwrite('output,jpg',out_buffer)"
   ]
  },
  {
   "cell_type": "code",
   "execution_count": null,
   "metadata": {},
   "outputs": [],
   "source": []
  }
 ],
 "metadata": {
  "kernelspec": {
   "display_name": "Python 3",
   "language": "python",
   "name": "python3"
  },
  "language_info": {
   "codemirror_mode": {
    "name": "ipython",
    "version": 3
   },
   "file_extension": ".py",
   "mimetype": "text/x-python",
   "name": "python",
   "nbconvert_exporter": "python",
   "pygments_lexer": "ipython3",
   "version": "3.6.5"
  }
 },
 "nbformat": 4,
 "nbformat_minor": 2
}
