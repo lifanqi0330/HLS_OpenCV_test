{
 "cells": [
  {
   "cell_type": "code",
   "execution_count": null,
   "metadata": {},
   "outputs": [],
   "source": [
    "#TEST 1 T = 0.028600692749023438  FPS = 34.9650\n",
    "#TEST 2 T = 0.0012826919555664062 FPS = 779,666302\n",
    "#TEST 3 T = 0.0026836395263671875 FPS = 384.6153\n",
    "#TEST 4 T = 0.0012586116790771484 FPS = 794,533608\n",
    "\n",
    "## TIMING TEST FOR CHANNEL SIZE\n",
    "## SIZE = 720 T = 0.30511\n",
    "## SIZE = 7200 T = 0.11\n"
   ]
  },
  {
   "cell_type": "code",
   "execution_count": 10,
   "metadata": {},
   "outputs": [],
   "source": [
    "import numpy as np\n",
    "import cv2\n",
    "import time\n",
    "from pynq import Overlay\n",
    "import pynq.lib.dma\n",
    "from PIL import Image\n",
    "from pynq import Xlnk\n",
    "import random\n",
    "import matplotlib.pyplot as plt\n",
    "import time\n",
    "\n",
    "OVERLAY = 'sobel.bit'"
   ]
  },
  {
   "cell_type": "code",
   "execution_count": 11,
   "metadata": {},
   "outputs": [],
   "source": [
    "frame_in = Image.open('lena.jpg')\n",
    "img_in = np.array(frame_in)"
   ]
  },
  {
   "cell_type": "code",
   "execution_count": 12,
   "metadata": {
    "scrolled": true,
    "slideshow": {
     "slide_type": "subslide"
    }
   },
   "outputs": [],
   "source": [
    "ol = Overlay(OVERLAY)\n",
    "ol?\n",
    "dma = ol.axi_dma_0\n",
    "canny_edge=ol.canny_edge_0\n",
    "#xlnk = Xlnk()\n",
    "#in_buffer = xlnk.cma_array(shape=(512,512), dtype=np.uint8)\n",
    "#out_buffer = xlnk.cma_array(shape=(512,512), dtype=np.uint8)\n",
    "#CREATE CONTIGOUS MEMORY ALLOCATED BUFFERS THROUGH XLNK"
   ]
  },
  {
   "cell_type": "code",
   "execution_count": 4,
   "metadata": {},
   "outputs": [
    {
     "ename": "NameError",
     "evalue": "name 'xlnk' is not defined",
     "output_type": "error",
     "traceback": [
      "\u001b[0;31m---------------------------------------------------------------------------\u001b[0m",
      "\u001b[0;31mNameError\u001b[0m                                 Traceback (most recent call last)",
      "\u001b[0;32m<ipython-input-4-38974157198a>\u001b[0m in \u001b[0;36m<module>\u001b[0;34m()\u001b[0m\n\u001b[0;32m----> 1\u001b[0;31m in_buffer = xlnk.cma_array(shape=(512, 512, 3), \n\u001b[0m\u001b[1;32m      2\u001b[0m                            dtype=np.uint8, cacheable=1)\n\u001b[1;32m      3\u001b[0m out_buffer = xlnk.cma_array(shape=(new_height, new_width, 3), \n\u001b[1;32m      4\u001b[0m                             dtype=np.uint8, cacheable=1)\n",
      "\u001b[0;31mNameError\u001b[0m: name 'xlnk' is not defined"
     ]
    }
   ],
   "source": [
    "in_buffer = xlnk.cma_array(shape=(512, 512, 3), \n",
    "                           dtype=np.uint8, cacheable=1)\n",
    "out_buffer = xlnk.cma_array(shape=(new_height, new_width, 3), \n",
    "                            dtype=np.uint8, cacheable=1)"
   ]
  },
  {
   "cell_type": "code",
   "execution_count": 14,
   "metadata": {},
   "outputs": [],
   "source": [
    "xlnk = Xlnk()\n",
    "image_buffer  = xlnk.cma_array(shape=(512,512), dtype=np.uint8)\n",
    "out_buffer = xlnk.cma_array(shape=(512,512), dtype=np.uint8)\n",
    "\n",
    "np.copyto(image_buffer,img_in)"
   ]
  },
  {
   "cell_type": "code",
   "execution_count": 38,
   "metadata": {},
   "outputs": [
    {
     "name": "stdout",
     "output_type": "stream",
     "text": [
      "0.007060050964355469\n"
     ]
    }
   ],
   "source": [
    "t = time.time()\n",
    "canny_edge.write(0x14, 512)\n",
    "canny_edge.write(0x1c, 512)\n",
    "canny_edge.write(0x24, 100)\n",
    "canny_edge.write(0x2c, 200)\n",
    "\n",
    "def run_kernel():\n",
    "    dma.sendchannel.transfer(image_buffer)\n",
    "    dma.recvchannel.transfer(out_buffer)    \n",
    "    canny_edge.write(0x00,0x81) # start\n",
    "    dma.sendchannel.wait()\n",
    "    dma.recvchannel.wait()\n",
    "\n",
    "run_kernel()\n",
    "\n",
    "print(time.time() - t)\n",
    "#result = Image.fromarray(out_buffer)\n",
    "#display(result)\n",
    "#print(\"Resized in Hardware(PL): {}x{} pixels.\".format(new_width, new_height))"
   ]
  },
  {
   "cell_type": "code",
   "execution_count": 39,
   "metadata": {},
   "outputs": [
    {
     "data": {
      "text/plain": [
       "ContiguousArray([[0, 0, 0, ..., 0, 0, 0],\n",
       "                 [0, 0, 0, ..., 0, 0, 0],\n",
       "                 [0, 0, 0, ..., 0, 0, 0],\n",
       "                 ..., \n",
       "                 [0, 0, 0, ..., 0, 0, 0],\n",
       "                 [0, 0, 0, ..., 0, 0, 0],\n",
       "                 [0, 0, 0, ..., 0, 0, 0]], dtype=uint8)"
      ]
     },
     "metadata": {},
     "output_type": "display_data"
    },
    {
     "data": {
      "image/png": "[encoded data removed]",
      "text/plain": [
       "<PIL.Image.Image image mode=L size=512x512 at 0xB3AFAD50>"
      ]
     },
     "execution_count": 39,
     "metadata": {},
     "output_type": "execute_result"
    }
   ],
   "source": [
    "display(out_buffer)\n",
    "img_cv2pynq_1 = Image.fromarray(out_buffer.astype('uint8'))\n",
    "img_cv2pynq_1\n",
    "#cv2.imwrite('output,jpg',out_buffer)"
   ]
  },
  {
   "cell_type": "code",
   "execution_count": null,
   "metadata": {},
   "outputs": [],
   "source": [
    "from pynq import MMIO\n",
    "ip = MMIO(0x43C00000,0x10000)\n",
    "ip.write(0x10 , 150 % 256)\n",
    "ip.write(0x18,100 % 256)\n",
    "ip.read(0x10)\n",
    "ip.read(0x18)\n",
    "#SET THE REGISTER'S VALUES OF HYSTHERESIS "
   ]
  },
  {
   "cell_type": "code",
   "execution_count": null,
   "metadata": {},
   "outputs": [],
   "source": [
    "img = cv2.imread('prova.jpg', 1)\n",
    "img = cv2.cvtColor(img, cv2.COLOR_BGR2GRAY)\n",
    "#LOAD THE IMAGE AND CONVERT TO GRAY"
   ]
  },
  {
   "cell_type": "code",
   "execution_count": null,
   "metadata": {},
   "outputs": [],
   "source": [
    "dma.sendchannel.start()\n",
    "dma.recvchannel.start()\n",
    "#START THE DMA"
   ]
  },
  {
   "cell_type": "code",
   "execution_count": null,
   "metadata": {},
   "outputs": [],
   "source": [
    "img = cv2.imread('prova.jpg', 1)\n",
    "img = cv2.cvtColor(img, cv2.COLOR_BGR2GRAY)\n",
    "np.copyto(in_buffer,img)\n",
    "t = time.time()\n",
    "dma.sendchannel.transfer(in_buffer)\n",
    "dma.recvchannel.transfer(out_buffer)\n",
    "print(time.time() - t)\n",
    "#EXECUTE THE TRANSFER FROM PS --> PL AND PL --> PS"
   ]
  },
  {
   "cell_type": "code",
   "execution_count": null,
   "metadata": {},
   "outputs": [],
   "source": [
    "img = cv2.imread('prova.jpg', 1)\n",
    "img = cv2.cvtColor(img, cv2.COLOR_BGR2GRAY)\n",
    "t = time.time()\n",
    "img = cv2.Canny(img,100,100)\n",
    "print(time.time() - t)"
   ]
  },
  {
   "cell_type": "code",
   "execution_count": null,
   "metadata": {
    "scrolled": false
   },
   "outputs": [],
   "source": [
    "plt.imshow(out_buffer, cmap='gray')"
   ]
  },
  {
   "cell_type": "code",
   "execution_count": null,
   "metadata": {},
   "outputs": [],
   "source": [
    "dma.recvchannel.stop()\n",
    "dma.sendchannel.stop()\n",
    "#STOP THE DMA"
   ]
  },
  {
   "cell_type": "code",
   "execution_count": null,
   "metadata": {},
   "outputs": [],
   "source": [
    "from pynq import GPIO\n",
    "buttons = ol.buttons_gpio.channel1\n",
    "buttons.setdirection('in')\n",
    "buttons.setlength(4)\n",
    "buttons[0].read()\n",
    "leds = ol.leds_gpio.channel1\n",
    "leds.setdirection('inout')\n",
    "leds.setlength(4)"
   ]
  },
  {
   "cell_type": "code",
   "execution_count": null,
   "metadata": {},
   "outputs": [],
   "source": [
    "leds[0].on()\n",
    "leds[2].off()\n",
    "leds[3].off()"
   ]
  },
  {
   "cell_type": "code",
   "execution_count": null,
   "metadata": {},
   "outputs": [],
   "source": [
    "switches = ol.switches_gpio.channel1;\n",
    "switches.setdirection('in')\n",
    "switches.setlength(2)\n",
    "switches[1].read()"
   ]
  },
  {
   "cell_type": "code",
   "execution_count": null,
   "metadata": {},
   "outputs": [],
   "source": [
    "high = 100\n",
    "low = 50\n",
    "while (buttons[0].read() == 0):\n",
    "    if(switches[1].read() == 1):\n",
    "        leds[0].on()\n",
    "        if(buttons[3].read() == 1):\n",
    "            high = high +10;\n",
    "        elif(buttons[2].read() == 1):\n",
    "            high = high - 10;\n",
    "    else:\n",
    "        leds[0].off()\n",
    "        if(buttons[3].read() == 1):\n",
    "            low = high +10;\n",
    "        elif(buttons[2].read() == 1):\n",
    "            low = low - 10;\n",
    "    ip.write(0x10 ,low)\n",
    "    ip.write(0x18,high)\n",
    "    print('high ' + str(high) + ' low' + str(low))"
   ]
  },
  {
   "cell_type": "code",
   "execution_count": null,
   "metadata": {},
   "outputs": [],
   "source": []
  }
 ],
 "metadata": {
  "kernelspec": {
   "display_name": "Python 3",
   "language": "python",
   "name": "python3"
  },
  "language_info": {
   "codemirror_mode": {
    "name": "ipython",
    "version": 3
   },
   "file_extension": ".py",
   "mimetype": "text/x-python",
   "name": "python",
   "nbconvert_exporter": "python",
   "pygments_lexer": "ipython3",
   "version": "3.6.5"
  }
 },
 "nbformat": 4,
 "nbformat_minor": 2
}
